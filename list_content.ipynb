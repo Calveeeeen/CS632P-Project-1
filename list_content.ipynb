{
 "cells": [
  {
   "cell_type": "markdown",
   "metadata": {},
   "source": [
    "Note:\n",
    "    \n",
    "    1. When listing info about folders and files the level should be INFO.\n",
    "    \n",
    "    2. When the passing value for folder or file is not valid (folder or file doesn’t exist) the level should be WARNING.\n",
    "    \n",
    "    3. Any computation errors should be captured (e.g. total storage of files, folders, drives cannot be negative) and classified under the ERROR level.\n",
    "    \n",
    "    4. When Python can NOT read the OS structure, the level should be CRITICAL.\n",
    "    \n",
    "    5. Any other activity/message of the logger should have a level of DEBUG."
   ]
  },
  {
   "cell_type": "code",
   "execution_count": 4,
   "metadata": {},
   "outputs": [],
   "source": [
    "import os\n",
    "import logging\n",
    "import argparse\n",
    "\n",
    "logging.basicConfig(filename='dump.log', level=logging.DEBUG)\n",
    "parser = argparse.ArgumentParser()\n",
    "parser.add_argument('-d', help='list all the drives of the machine with additional info')\n",
    "parser.add_argument('--drv', help='list additional info of single drive')\n",
    "\n",
    "parser.add_argument('-l', help='list all the folders of the machine with additional info:')\n",
    "parser.add_argument('--fld', help='list additional info of single folder')\n",
    "\n",
    "parser.add_argument('-f', help='list all the files of the machine with additional info')\n",
    "parser.add_argument('--fil', help='list additional info of single file')\n",
    "\n",
    "parser.add_argument('-t', help='list all the types of files of the machine with additional info')\n",
    "parser.add_argument('--typ', help='list additional info of type of single file')\n",
    "\n",
    "args = parser.parse_args()\n"
   ]
  },
  {
   "cell_type": "markdown",
   "metadata": {},
   "source": [
    "List Drives\n",
    "\n",
    "    ‘-d’: To list all the drives of the machine with the following info:\n",
    "        - Drive name / letter\n",
    "        - Total number of directories\n",
    "        - Total number of files\n",
    "        - Total allocated, used, free storage\n",
    "    A positional argument ‘drv’ that will indicate the name of a single drive to report the above info."
   ]
  },
  {
   "cell_type": "code",
   "execution_count": 5,
   "metadata": {},
   "outputs": [],
   "source": [
    "def dump_drives():\n",
    "    return\n",
    "    # Iterate Through Drives\n",
    "        # Get Drive Info\n",
    "        \n",
    "def get_drive_info():\n",
    "    return\n",
    "    # Get:\n",
    "        # Drive Letter, \n",
    "        # of Directories, \n",
    "        # of files, \n",
    "        # Total allocated, used, free storage\n",
    "    # Write To Log File"
   ]
  },
  {
   "cell_type": "code",
   "execution_count": 6,
   "metadata": {},
   "outputs": [
    {
     "name": "stdout",
     "output_type": "stream",
     "text": [
      "MacOS\n",
      "4,007,037 files, 1,036,757 folders\n",
      "Macintosh HD (4007037, 1036757) (926.0, 18.0, 778.0)\n",
      "None\n"
     ]
    }
   ],
   "source": [
    "import driver_getter as dg\n",
    "\n",
    "print(dg.dump_drives())\n",
    "if args.d:\n",
    "    print(dg.dump_drives())\n",
    "    # Put Logger handler function Here\n",
    "if args.drv:\n",
    "    # Put args.drrv handler function here\n",
    "    # Put Logger handler function Here"
   ]
  },
  {
   "cell_type": "markdown",
   "metadata": {},
   "source": [
    "Lists Folders\n",
    "\n",
    "    l’: To list all the folders in a given drive with the following info:\n",
    "        - Folder name\n",
    "        - Total number of files per folder\n",
    "        - Total storage used per folder and sum of all storage for all folders.\n",
    "    A positional argument ‘fld’ that will pass the folder name to report the above info."
   ]
  },
  {
   "cell_type": "code",
   "execution_count": null,
   "metadata": {},
   "outputs": [],
   "source": []
  },
  {
   "cell_type": "markdown",
   "metadata": {},
   "source": [
    "Lists Files\n",
    "\n",
    "    ‘-f’: To list all the files of the machine with the following info:\n",
    "        - File name\n",
    "        - File type (‘py’, ‘ipynb’, ‘exe’, ‘txt’, ‘csv’, ‘pdf’, ‘other’)\n",
    "        - File size\n",
    "        - Date/Time stamp of the file\n",
    "    A positional argument ‘fil’ that will pass the file name to report the above info."
   ]
  },
  {
   "cell_type": "code",
   "execution_count": null,
   "metadata": {},
   "outputs": [],
   "source": []
  },
  {
   "cell_type": "markdown",
   "metadata": {},
   "source": [
    "Lists File Types\n",
    "\n",
    "    ‘-t’: To list all the types of files exist in the machine with the following info:\n",
    "        - File type\n",
    "        - Total number of files per file type\n",
    "        - Total storage used per file type\n",
    "    A positional argument ‘typ’ that will indicate the type of file to report the above info."
   ]
  }
 ],
 "metadata": {
  "kernelspec": {
   "display_name": "Python 3.8.2 64-bit",
   "language": "python",
   "name": "python38264bit909a94fc33264abeb54fd7b8772f30e0"
  },
  "language_info": {
   "codemirror_mode": {
    "name": "ipython",
    "version": 3
   },
   "file_extension": ".py",
   "mimetype": "text/x-python",
   "name": "python",
   "nbconvert_exporter": "python",
   "pygments_lexer": "ipython3",
   "version": "3.8.2"
  },
  "orig_nbformat": 2
 },
 "nbformat": 4,
 "nbformat_minor": 2
}